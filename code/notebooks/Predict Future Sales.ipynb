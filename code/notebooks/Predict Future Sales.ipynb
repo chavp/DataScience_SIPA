{
 "cells": [
  {
   "cell_type": "markdown",
   "metadata": {},
   "source": [
    "# https://www.kaggle.com/c/competitive-data-science-predict-future-sales"
   ]
  },
  {
   "cell_type": "code",
   "execution_count": null,
   "metadata": {},
   "outputs": [],
   "source": [
    "## Import Libraries\n",
    "import pandas as pd\n",
    "import numpy as np\n",
    "import matplotlib.pyplot as plt\n",
    "import seaborn as sns\n",
    "import statsmodels.api as sm\n",
    "%matplotlib inline"
   ]
  },
  {
   "cell_type": "code",
   "execution_count": null,
   "metadata": {},
   "outputs": [],
   "source": [
    "# Import Data\n",
    "# set date as index\n",
    "dataFrame = pd.read_csv('../data/sales_train_v2.csv', index_col=0)\n",
    "# dataFrame = pd.read_csv('../data/IPG2211A2N.csv')\n",
    "sales = dataFrame.drop(columns=['date_block_num', 'shop_id', 'item_id', 'item_price']).copy()\n",
    "q = sales[\"item_cnt_day\"].quantile(0.99)\n",
    "sales = sales[sales[\"item_cnt_day\"]**2 < q**2]\n",
    "sales = sales.groupby(['date']).sum()\n",
    "sales.head()"
   ]
  },
  {
   "cell_type": "code",
   "execution_count": 50,
   "metadata": {
    "scrolled": true
   },
   "outputs": [
    {
     "name": "stdout",
     "output_type": "stream",
     "text": [
      "Index(['01.01.2013', '01.01.2014', '01.01.2015', '01.02.2013', '01.02.2014',\n",
      "       '01.02.2015', '01.03.2013', '01.03.2014', '01.03.2015', '01.04.2013',\n",
      "       ...\n",
      "       '31.07.2014', '31.07.2015', '31.08.2013', '31.08.2014', '31.08.2015',\n",
      "       '31.10.2013', '31.10.2014', '31.10.2015', '31.12.2013', '31.12.2014'],\n",
      "      dtype='object', name='date', length=1034)\n"
     ]
    }
   ],
   "source": [
    "print(sales.index)\n",
    "# Convert index to datetime\n",
    "sales.index = pd.to_datetime(sales.index)\n",
    "# Rename Column\n",
    "#sales.columns = ['date']"
   ]
  },
  {
   "cell_type": "code",
   "execution_count": null,
   "metadata": {},
   "outputs": [],
   "source": [
    "#sales['item_cnt_day'].max()\n",
    "#q = sales[\"item_cnt_day\"].quantile(0.99)\n",
    "#print(q)\n",
    "#sales_no = sales[sales[\"item_cnt_day\"]**2 < q**2]\n",
    "#sales_norm = (sales - sales.mean()) / (sales.max() - sales.min())\n",
    "sales_norm = (sales - sales.mean()) / sales.std()"
   ]
  },
  {
   "cell_type": "code",
   "execution_count": null,
   "metadata": {},
   "outputs": [],
   "source": [
    "sales_norm.plot(figsize=(15, 6))\n",
    "plt.show()"
   ]
  },
  {
   "cell_type": "code",
   "execution_count": 55,
   "metadata": {},
   "outputs": [
    {
     "name": "stdout",
     "output_type": "stream",
     "text": [
      "Examples of parameter combinations for Seasonal ARIMA...\n",
      "SARIMAX: (0, 1, 1) x (0, 1, 1, 12)\n",
      "SARIMAX: (0, 1, 1) x (0, 1, 2, 12)\n",
      "SARIMAX: (0, 1, 2) x (1, 1, 0, 12)\n",
      "SARIMAX: (0, 1, 2) x (1, 1, 1, 12)\n"
     ]
    }
   ],
   "source": [
    "import warnings\n",
    "import itertools\n",
    "\n",
    "# Define the p, d and q parameters to take any value between 0 and 2\n",
    "# p -> Correlation with y for \"p\" period\n",
    "# d -> Trend line character, degree of differencing\n",
    "# q -> Error carry over\n",
    "\n",
    "p = q = range(0, 3)\n",
    "\n",
    "d = range(1,2)\n",
    "\n",
    "# Generate all different combinations of p, q and q triplets\n",
    "pdq = list(itertools.product(p, d, q))\n",
    "\n",
    "# Generate all different combinations of seasonal p, q and q triplets\n",
    "seasonal_pdq = [(x[0], x[1], x[2], 12) for x in list(itertools.product(p, d, q))]\n",
    "\n",
    "print('Examples of parameter combinations for Seasonal ARIMA...')\n",
    "print('SARIMAX: {} x {}'.format(pdq[1], seasonal_pdq[1]))\n",
    "print('SARIMAX: {} x {}'.format(pdq[1], seasonal_pdq[2]))\n",
    "print('SARIMAX: {} x {}'.format(pdq[2], seasonal_pdq[3]))\n",
    "print('SARIMAX: {} x {}'.format(pdq[2], seasonal_pdq[4]))"
   ]
  },
  {
   "cell_type": "code",
   "execution_count": null,
   "metadata": {},
   "outputs": [],
   "source": []
  }
 ],
 "metadata": {
  "kernelspec": {
   "display_name": "Python 3",
   "language": "python",
   "name": "python3"
  },
  "language_info": {
   "codemirror_mode": {
    "name": "ipython",
    "version": 3
   },
   "file_extension": ".py",
   "mimetype": "text/x-python",
   "name": "python",
   "nbconvert_exporter": "python",
   "pygments_lexer": "ipython3",
   "version": "3.6.4"
  }
 },
 "nbformat": 4,
 "nbformat_minor": 2
}
